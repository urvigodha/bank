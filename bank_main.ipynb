{
  "nbformat": 4,
  "nbformat_minor": 0,
  "metadata": {
    "colab": {
      "name": "bank-main",
      "provenance": [],
      "collapsed_sections": []
    },
    "kernelspec": {
      "name": "python3",
      "display_name": "Python 3"
    }
  },
  "cells": [
    {
      "cell_type": "code",
      "metadata": {
        "id": "L1WtXDbdT14e"
      },
      "source": [
        "import numpy as np\n",
        "import pandas as pd\n",
        "import matplotlib.pyplot as plt\n",
        "import seaborn as sns"
      ],
      "execution_count": null,
      "outputs": []
    },
    {
      "cell_type": "code",
      "metadata": {
        "id": "WbLo_gQSVA6x"
      },
      "source": [
        "data = pd.read_csv('bank-additional-full.csv',sep=';')"
      ],
      "execution_count": null,
      "outputs": []
    },
    {
      "cell_type": "code",
      "metadata": {
        "id": "EhGlxcZpV-PM",
        "outputId": "4ee8e2bd-c937-49ac-cf31-05b3542a689d",
        "colab": {
          "base_uri": "https://localhost:8080/",
          "height": 224
        }
      },
      "source": [
        "data.head()"
      ],
      "execution_count": null,
      "outputs": [
        {
          "output_type": "execute_result",
          "data": {
            "text/html": [
              "<div>\n",
              "<style scoped>\n",
              "    .dataframe tbody tr th:only-of-type {\n",
              "        vertical-align: middle;\n",
              "    }\n",
              "\n",
              "    .dataframe tbody tr th {\n",
              "        vertical-align: top;\n",
              "    }\n",
              "\n",
              "    .dataframe thead th {\n",
              "        text-align: right;\n",
              "    }\n",
              "</style>\n",
              "<table border=\"1\" class=\"dataframe\">\n",
              "  <thead>\n",
              "    <tr style=\"text-align: right;\">\n",
              "      <th></th>\n",
              "      <th>age</th>\n",
              "      <th>job</th>\n",
              "      <th>marital</th>\n",
              "      <th>education</th>\n",
              "      <th>default</th>\n",
              "      <th>housing</th>\n",
              "      <th>loan</th>\n",
              "      <th>contact</th>\n",
              "      <th>month</th>\n",
              "      <th>day_of_week</th>\n",
              "      <th>duration</th>\n",
              "      <th>campaign</th>\n",
              "      <th>pdays</th>\n",
              "      <th>previous</th>\n",
              "      <th>poutcome</th>\n",
              "      <th>emp.var.rate</th>\n",
              "      <th>cons.price.idx</th>\n",
              "      <th>cons.conf.idx</th>\n",
              "      <th>euribor3m</th>\n",
              "      <th>nr.employed</th>\n",
              "      <th>y</th>\n",
              "    </tr>\n",
              "  </thead>\n",
              "  <tbody>\n",
              "    <tr>\n",
              "      <th>0</th>\n",
              "      <td>56</td>\n",
              "      <td>housemaid</td>\n",
              "      <td>married</td>\n",
              "      <td>basic.4y</td>\n",
              "      <td>no</td>\n",
              "      <td>no</td>\n",
              "      <td>no</td>\n",
              "      <td>telephone</td>\n",
              "      <td>may</td>\n",
              "      <td>mon</td>\n",
              "      <td>261</td>\n",
              "      <td>1</td>\n",
              "      <td>999</td>\n",
              "      <td>0</td>\n",
              "      <td>nonexistent</td>\n",
              "      <td>1.1</td>\n",
              "      <td>93.994</td>\n",
              "      <td>-36.4</td>\n",
              "      <td>4.857</td>\n",
              "      <td>5191.0</td>\n",
              "      <td>no</td>\n",
              "    </tr>\n",
              "    <tr>\n",
              "      <th>1</th>\n",
              "      <td>57</td>\n",
              "      <td>services</td>\n",
              "      <td>married</td>\n",
              "      <td>high.school</td>\n",
              "      <td>unknown</td>\n",
              "      <td>no</td>\n",
              "      <td>no</td>\n",
              "      <td>telephone</td>\n",
              "      <td>may</td>\n",
              "      <td>mon</td>\n",
              "      <td>149</td>\n",
              "      <td>1</td>\n",
              "      <td>999</td>\n",
              "      <td>0</td>\n",
              "      <td>nonexistent</td>\n",
              "      <td>1.1</td>\n",
              "      <td>93.994</td>\n",
              "      <td>-36.4</td>\n",
              "      <td>4.857</td>\n",
              "      <td>5191.0</td>\n",
              "      <td>no</td>\n",
              "    </tr>\n",
              "    <tr>\n",
              "      <th>2</th>\n",
              "      <td>37</td>\n",
              "      <td>services</td>\n",
              "      <td>married</td>\n",
              "      <td>high.school</td>\n",
              "      <td>no</td>\n",
              "      <td>yes</td>\n",
              "      <td>no</td>\n",
              "      <td>telephone</td>\n",
              "      <td>may</td>\n",
              "      <td>mon</td>\n",
              "      <td>226</td>\n",
              "      <td>1</td>\n",
              "      <td>999</td>\n",
              "      <td>0</td>\n",
              "      <td>nonexistent</td>\n",
              "      <td>1.1</td>\n",
              "      <td>93.994</td>\n",
              "      <td>-36.4</td>\n",
              "      <td>4.857</td>\n",
              "      <td>5191.0</td>\n",
              "      <td>no</td>\n",
              "    </tr>\n",
              "    <tr>\n",
              "      <th>3</th>\n",
              "      <td>40</td>\n",
              "      <td>admin.</td>\n",
              "      <td>married</td>\n",
              "      <td>basic.6y</td>\n",
              "      <td>no</td>\n",
              "      <td>no</td>\n",
              "      <td>no</td>\n",
              "      <td>telephone</td>\n",
              "      <td>may</td>\n",
              "      <td>mon</td>\n",
              "      <td>151</td>\n",
              "      <td>1</td>\n",
              "      <td>999</td>\n",
              "      <td>0</td>\n",
              "      <td>nonexistent</td>\n",
              "      <td>1.1</td>\n",
              "      <td>93.994</td>\n",
              "      <td>-36.4</td>\n",
              "      <td>4.857</td>\n",
              "      <td>5191.0</td>\n",
              "      <td>no</td>\n",
              "    </tr>\n",
              "    <tr>\n",
              "      <th>4</th>\n",
              "      <td>56</td>\n",
              "      <td>services</td>\n",
              "      <td>married</td>\n",
              "      <td>high.school</td>\n",
              "      <td>no</td>\n",
              "      <td>no</td>\n",
              "      <td>yes</td>\n",
              "      <td>telephone</td>\n",
              "      <td>may</td>\n",
              "      <td>mon</td>\n",
              "      <td>307</td>\n",
              "      <td>1</td>\n",
              "      <td>999</td>\n",
              "      <td>0</td>\n",
              "      <td>nonexistent</td>\n",
              "      <td>1.1</td>\n",
              "      <td>93.994</td>\n",
              "      <td>-36.4</td>\n",
              "      <td>4.857</td>\n",
              "      <td>5191.0</td>\n",
              "      <td>no</td>\n",
              "    </tr>\n",
              "  </tbody>\n",
              "</table>\n",
              "</div>"
            ],
            "text/plain": [
              "   age        job  marital  ... euribor3m nr.employed   y\n",
              "0   56  housemaid  married  ...     4.857      5191.0  no\n",
              "1   57   services  married  ...     4.857      5191.0  no\n",
              "2   37   services  married  ...     4.857      5191.0  no\n",
              "3   40     admin.  married  ...     4.857      5191.0  no\n",
              "4   56   services  married  ...     4.857      5191.0  no\n",
              "\n",
              "[5 rows x 21 columns]"
            ]
          },
          "metadata": {
            "tags": []
          },
          "execution_count": 57
        }
      ]
    },
    {
      "cell_type": "code",
      "metadata": {
        "id": "Wos5fjLIWBXG",
        "outputId": "5b40bb65-d144-425f-c307-0c2f84159133",
        "colab": {
          "base_uri": "https://localhost:8080/",
          "height": 34
        }
      },
      "source": [
        "data.shape"
      ],
      "execution_count": null,
      "outputs": [
        {
          "output_type": "execute_result",
          "data": {
            "text/plain": [
              "(41188, 21)"
            ]
          },
          "metadata": {
            "tags": []
          },
          "execution_count": 58
        }
      ]
    },
    {
      "cell_type": "code",
      "metadata": {
        "id": "LRqvO2ezWCK1",
        "outputId": "51e06c1a-0205-4508-e957-8223834c2185",
        "colab": {
          "base_uri": "https://localhost:8080/",
          "height": 391
        }
      },
      "source": [
        "data.dtypes"
      ],
      "execution_count": null,
      "outputs": [
        {
          "output_type": "execute_result",
          "data": {
            "text/plain": [
              "age                 int64\n",
              "job                object\n",
              "marital            object\n",
              "education          object\n",
              "default            object\n",
              "housing            object\n",
              "loan               object\n",
              "contact            object\n",
              "month              object\n",
              "day_of_week        object\n",
              "duration            int64\n",
              "campaign            int64\n",
              "pdays               int64\n",
              "previous            int64\n",
              "poutcome           object\n",
              "emp.var.rate      float64\n",
              "cons.price.idx    float64\n",
              "cons.conf.idx     float64\n",
              "euribor3m         float64\n",
              "nr.employed       float64\n",
              "y                  object\n",
              "dtype: object"
            ]
          },
          "metadata": {
            "tags": []
          },
          "execution_count": 59
        }
      ]
    },
    {
      "cell_type": "code",
      "metadata": {
        "id": "n9nuZ5A8WDTy"
      },
      "source": [
        "data.y = data.y.map({'yes':1,'no':0})"
      ],
      "execution_count": null,
      "outputs": []
    },
    {
      "cell_type": "code",
      "metadata": {
        "id": "VKw0x454WFxo"
      },
      "source": [
        "data.default = data.default.map({'no':0,'yes':1})\n",
        "data.housing = data.housing.map({'no':0,'yes':1})\n",
        "data.loan = data.loan.map({'yes':1,'no':0})\n",
        "data.contact = data.contact.map({'cellular':1,'telephone':0})"
      ],
      "execution_count": null,
      "outputs": []
    },
    {
      "cell_type": "code",
      "metadata": {
        "id": "y2rAi-BrYiSX"
      },
      "source": [
        "data.month = data.month.map({'mar':2,'apr':3,'may':4,'jun':5,'jul':6,'aug':7,'sep':8,'oct':9,'nov':10,'dec':11})\n",
        "data.day_of_week = data.day_of_week.map({'mon':0,'tue':1,'wed':2,'thu':3,'fri':4})"
      ],
      "execution_count": null,
      "outputs": []
    },
    {
      "cell_type": "markdown",
      "metadata": {
        "id": "nJOvAZ0Z1QR9"
      },
      "source": [
        "Transforming month and day_of_week by sin function as they are cyclic\n"
      ]
    },
    {
      "cell_type": "code",
      "metadata": {
        "id": "mN01Mskn1NZ2"
      },
      "source": [
        "data.month = np.sin(data.month*(2.*np.pi/12))\n",
        "data.day_of_week = np.sin(data.day_of_week*(2.*np.pi/7))"
      ],
      "execution_count": null,
      "outputs": []
    },
    {
      "cell_type": "markdown",
      "metadata": {
        "id": "SC4IDZG5zNKo"
      },
      "source": [
        "Encoding categorical variables"
      ]
    },
    {
      "cell_type": "code",
      "metadata": {
        "id": "kfBjfz7a3EPc"
      },
      "source": [
        "from sklearn.preprocessing import OneHotEncoder\n",
        "OHE = OneHotEncoder(handle_unknown='ignore')\n",
        "OHE.fit(data.job.values.reshape(-1,1))\n",
        "a_job = OHE.transform(data.job.values.reshape(-1,1)).toarray()\n",
        "\n",
        "df_job = pd.DataFrame(a_job, columns = ['job_'+str(OHE.categories_[0][i])\n",
        "                                        for i in range(len(OHE.categories_[0]))])\n",
        "\n",
        "OHE.fit(data.marital.values.reshape(-1,1))\n",
        "a_marital = OHE.transform(data.marital.values.reshape(-1,1)).toarray()\n",
        "\n",
        "df_marital = pd.DataFrame(a_marital, columns = ['marital_'+str(OHE.categories_[0][i])\n",
        "                                        for i in range(len(OHE.categories_[0]))])\n",
        "\n",
        "OHE.fit(data.education.values.reshape(-1,1))\n",
        "a_education = OHE.transform(data.education.values.reshape(-1,1)).toarray()\n",
        "\n",
        "df_education = pd.DataFrame(a_education, columns = ['education_'+str(OHE.categories_[0][i])\n",
        "                                        for i in range(len(OHE.categories_[0]))])\n",
        "\n",
        "\n",
        "OHE.fit(data.poutcome.values.reshape(-1,1))\n",
        "a_poutcome = OHE.transform(data.poutcome.values.reshape(-1,1)).toarray()\n",
        "\n",
        "df_poutcome = pd.DataFrame(a_poutcome, columns = ['poutcome_'+str(OHE.categories_[0][i])\n",
        "                                        for i in range(len(OHE.categories_[0]))])\n",
        "\n",
        "\n",
        "data = pd.concat([data,df_job,df_marital,df_education,df_poutcome], axis = 1)\n",
        "\n",
        "data = data.drop(['job','marital','education','poutcome'],axis = 1)"
      ],
      "execution_count": null,
      "outputs": []
    },
    {
      "cell_type": "code",
      "metadata": {
        "id": "icS3q3AD6JkV",
        "outputId": "dfc22a38-dc0d-4300-9550-06e4b080703c",
        "colab": {
          "base_uri": "https://localhost:8080/",
          "height": 34
        }
      },
      "source": [
        "data.shape"
      ],
      "execution_count": null,
      "outputs": [
        {
          "output_type": "execute_result",
          "data": {
            "text/plain": [
              "(41188, 44)"
            ]
          },
          "metadata": {
            "tags": []
          },
          "execution_count": 65
        }
      ]
    },
    {
      "cell_type": "code",
      "metadata": {
        "id": "teMom9xZ6JOn",
        "outputId": "6199f86e-4488-42e4-b58b-da3734ec1899",
        "colab": {
          "base_uri": "https://localhost:8080/",
          "height": 782
        }
      },
      "source": [
        "data.dtypes"
      ],
      "execution_count": null,
      "outputs": [
        {
          "output_type": "execute_result",
          "data": {
            "text/plain": [
              "age                                int64\n",
              "default                          float64\n",
              "housing                          float64\n",
              "loan                             float64\n",
              "contact                            int64\n",
              "month                            float64\n",
              "day_of_week                      float64\n",
              "duration                           int64\n",
              "campaign                           int64\n",
              "pdays                              int64\n",
              "previous                           int64\n",
              "emp.var.rate                     float64\n",
              "cons.price.idx                   float64\n",
              "cons.conf.idx                    float64\n",
              "euribor3m                        float64\n",
              "nr.employed                      float64\n",
              "y                                  int64\n",
              "job_admin.                       float64\n",
              "job_blue-collar                  float64\n",
              "job_entrepreneur                 float64\n",
              "job_housemaid                    float64\n",
              "job_management                   float64\n",
              "job_retired                      float64\n",
              "job_self-employed                float64\n",
              "job_services                     float64\n",
              "job_student                      float64\n",
              "job_technician                   float64\n",
              "job_unemployed                   float64\n",
              "job_unknown                      float64\n",
              "marital_divorced                 float64\n",
              "marital_married                  float64\n",
              "marital_single                   float64\n",
              "marital_unknown                  float64\n",
              "education_basic.4y               float64\n",
              "education_basic.6y               float64\n",
              "education_basic.9y               float64\n",
              "education_high.school            float64\n",
              "education_illiterate             float64\n",
              "education_professional.course    float64\n",
              "education_university.degree      float64\n",
              "education_unknown                float64\n",
              "poutcome_failure                 float64\n",
              "poutcome_nonexistent             float64\n",
              "poutcome_success                 float64\n",
              "dtype: object"
            ]
          },
          "metadata": {
            "tags": []
          },
          "execution_count": 66
        }
      ]
    },
    {
      "cell_type": "markdown",
      "metadata": {
        "id": "DgUV4DoYWxaG"
      },
      "source": [
        "Train Test Split:"
      ]
    },
    {
      "cell_type": "code",
      "metadata": {
        "id": "4yflX5_mzRDU"
      },
      "source": [
        "data_y = data.pop('y')\n",
        "from sklearn.model_selection import train_test_split\n",
        "X_train, X_test, y_train, y_test = train_test_split(data,data_y,test_size = 0.2,random_state = 19)\n",
        "X_val, X_test, y_val, y_test = train_test_split(X_test, y_test, test_size = 0.5, random_state = 19)"
      ],
      "execution_count": null,
      "outputs": []
    },
    {
      "cell_type": "code",
      "metadata": {
        "id": "lKhXUv3U0QWt",
        "outputId": "5b13c4a5-2e90-43e9-f6ce-5b8857895c67",
        "colab": {
          "base_uri": "https://localhost:8080/",
          "height": 68
        }
      },
      "source": [
        "print(X_train.shape, y_train.shape)\n",
        "print(X_test.shape, y_test.shape)\n",
        "print(X_val.shape,y_val.shape)"
      ],
      "execution_count": null,
      "outputs": [
        {
          "output_type": "stream",
          "text": [
            "(32950, 43) (32950,)\n",
            "(4119, 43) (4119,)\n",
            "(4119, 43) (4119,)\n"
          ],
          "name": "stdout"
        }
      ]
    },
    {
      "cell_type": "markdown",
      "metadata": {
        "id": "plTdTJC-W06T"
      },
      "source": [
        "Filling Mising values:"
      ]
    },
    {
      "cell_type": "code",
      "metadata": {
        "id": "1uDllfOh4gbz"
      },
      "source": [
        "from sklearn.experimental import enable_iterative_imputer\n",
        "from sklearn.impute import IterativeImputer\n",
        "\n",
        "imp = IterativeImputer(max_iter=150, random_state=0)\n",
        "imp.fit(X_train.values)\n",
        "X_train_imp = imp.transform(X_train.values)\n",
        "X_test_imp = imp.transform(X_test.values)\n",
        "X_val_imp = imp.transform(X_val.values)\n",
        "\n",
        "X_train = pd.DataFrame(data=X_train_imp, columns = X_train.columns, index = X_train.index)\n",
        "X_test = pd.DataFrame(data=X_test_imp, columns = X_test.columns, index = X_test.index)\n",
        "X_val = pd.DataFrame(data=X_val_imp, columns = X_val.columns, index = X_val.index)"
      ],
      "execution_count": null,
      "outputs": []
    },
    {
      "cell_type": "markdown",
      "metadata": {
        "id": "FF-xeqfeW4gx"
      },
      "source": [
        "Heat map to show correlation between features:"
      ]
    },
    {
      "cell_type": "code",
      "metadata": {
        "id": "eK1K4t0lTk-E",
        "outputId": "6c36d32c-ec9d-42a3-beb5-81be34c09df2",
        "colab": {
          "base_uri": "https://localhost:8080/",
          "height": 523
        }
      },
      "source": [
        "corr_df=X_train  #New dataframe to calculate correlation between numeric features\n",
        "cor= corr_df.corr(method='pearson')\n",
        "fig, ax =plt.subplots(figsize=(8, 6))\n",
        "plt.title(\"Correlation Plot\")\n",
        "sns.heatmap(cor, mask=np.zeros_like(cor, dtype=np.bool), cmap=sns.diverging_palette(220, 10, as_cmap=True),\n",
        "            square=True, ax=ax)\n",
        "plt.show()"
      ],
      "execution_count": null,
      "outputs": [
        {
          "output_type": "display_data",
          "data": {
            "image/png": "[encoded data removed]",
            "text/plain": [
              "<Figure size 576x432 with 2 Axes>"
            ]
          },
          "metadata": {
            "tags": []
          }
        }
      ]
    },
    {
      "cell_type": "markdown",
      "metadata": {
        "id": "ef24HL0ddtl0"
      },
      "source": [
        "Plots of all features:"
      ]
    },
    {
      "cell_type": "code",
      "metadata": {
        "id": "eFZTaoLUdwvx",
        "outputId": "cb294b8f-b2fb-43cb-edce-fd2ef9137dbb",
        "colab": {
          "base_uri": "https://localhost:8080/",
          "height": 901
        }
      },
      "source": [
        "fig = plt.figure(figsize=(15,15))\n",
        "for i, col in enumerate(data.columns): \n",
        "\n",
        "    ax = fig.add_subplot(11, 4, i+1)\n",
        "    sns.distplot(data[col].dropna())"
      ],
      "execution_count": null,
      "outputs": [
        {
          "output_type": "display_data",
          "data": {
            "image/png": "[encoded data removed]",
            "text/plain": [
              "<Figure size 1080x1080 with 43 Axes>"
            ]
          },
          "metadata": {
            "tags": []
          }
        }
      ]
    },
    {
      "cell_type": "markdown",
      "metadata": {
        "id": "1ez7RLRVd2kP"
      },
      "source": [
        "Box Cox Transformation:"
      ]
    },
    {
      "cell_type": "code",
      "metadata": {
        "id": "Usg4o_kRd6g8",
        "outputId": "6c169fae-2a7f-456b-cbd6-cec5b661c5fb",
        "colab": {
          "base_uri": "https://localhost:8080/",
          "height": 139
        }
      },
      "source": [
        "from sklearn.preprocessing import PowerTransformer\n",
        "power = PowerTransformer(method='yeo-johnson', standardize=False)\n",
        "power.fit(X_train)\n",
        "X_t = power.transform(X_train)\n",
        "X_v = power.transform(X_val)\n",
        "X_train = pd.DataFrame(data=X_t, index=X_train.index, columns=X_train.columns)\n",
        "X_val = pd.DataFrame(data=X_v, index=X_val.index, columns=X_val.columns)"
      ],
      "execution_count": null,
      "outputs": [
        {
          "output_type": "stream",
          "text": [
            "/usr/local/lib/python3.6/dist-packages/sklearn/preprocessing/data.py:2828: RuntimeWarning: overflow encountered in power\n",
            "  out[pos] = (np.power(x[pos] + 1, lmbda) - 1) / lmbda\n",
            "/usr/local/lib/python3.6/dist-packages/numpy/core/_methods.py:195: RuntimeWarning: overflow encountered in multiply\n",
            "  x = um.multiply(x, x, out=x)\n",
            "/usr/local/lib/python3.6/dist-packages/numpy/core/_methods.py:199: RuntimeWarning: overflow encountered in reduce\n",
            "  ret = umr_sum(x, axis, dtype, out, keepdims)\n"
          ],
          "name": "stderr"
        }
      ]
    },
    {
      "cell_type": "code",
      "metadata": {
        "id": "wQZnaJj8d7GI",
        "outputId": "2adc05b5-5770-482c-c778-23d17db458e8",
        "colab": {
          "base_uri": "https://localhost:8080/",
          "height": 241
        }
      },
      "source": [
        "X_train.head()"
      ],
      "execution_count": null,
      "outputs": [
        {
          "output_type": "execute_result",
          "data": {
            "text/html": [
              "<div>\n",
              "<style scoped>\n",
              "    .dataframe tbody tr th:only-of-type {\n",
              "        vertical-align: middle;\n",
              "    }\n",
              "\n",
              "    .dataframe tbody tr th {\n",
              "        vertical-align: top;\n",
              "    }\n",
              "\n",
              "    .dataframe thead th {\n",
              "        text-align: right;\n",
              "    }\n",
              "</style>\n",
              "<table border=\"1\" class=\"dataframe\">\n",
              "  <thead>\n",
              "    <tr style=\"text-align: right;\">\n",
              "      <th></th>\n",
              "      <th>age</th>\n",
              "      <th>default</th>\n",
              "      <th>housing</th>\n",
              "      <th>loan</th>\n",
              "      <th>contact</th>\n",
              "      <th>month</th>\n",
              "      <th>day_of_week</th>\n",
              "      <th>duration</th>\n",
              "      <th>campaign</th>\n",
              "      <th>pdays</th>\n",
              "      <th>previous</th>\n",
              "      <th>emp.var.rate</th>\n",
              "      <th>cons.price.idx</th>\n",
              "      <th>cons.conf.idx</th>\n",
              "      <th>euribor3m</th>\n",
              "      <th>nr.employed</th>\n",
              "      <th>job_admin.</th>\n",
              "      <th>job_blue-collar</th>\n",
              "      <th>job_entrepreneur</th>\n",
              "      <th>job_housemaid</th>\n",
              "      <th>job_management</th>\n",
              "      <th>job_retired</th>\n",
              "      <th>job_self-employed</th>\n",
              "      <th>job_services</th>\n",
              "      <th>job_student</th>\n",
              "      <th>job_technician</th>\n",
              "      <th>job_unemployed</th>\n",
              "      <th>job_unknown</th>\n",
              "      <th>marital_divorced</th>\n",
              "      <th>marital_married</th>\n",
              "      <th>marital_single</th>\n",
              "      <th>marital_unknown</th>\n",
              "      <th>education_basic.4y</th>\n",
              "      <th>education_basic.6y</th>\n",
              "      <th>education_basic.9y</th>\n",
              "      <th>education_high.school</th>\n",
              "      <th>education_illiterate</th>\n",
              "      <th>education_professional.course</th>\n",
              "      <th>education_university.degree</th>\n",
              "      <th>education_unknown</th>\n",
              "      <th>poutcome_failure</th>\n",
              "      <th>poutcome_nonexistent</th>\n",
              "      <th>poutcome_success</th>\n",
              "    </tr>\n",
              "  </thead>\n",
              "  <tbody>\n",
              "    <tr>\n",
              "      <th>22581</th>\n",
              "      <td>0.050995</td>\n",
              "      <td>-0.139295</td>\n",
              "      <td>-1.092309</td>\n",
              "      <td>-0.459431</td>\n",
              "      <td>0.756235</td>\n",
              "      <td>-1.125664</td>\n",
              "      <td>-1.483013</td>\n",
              "      <td>-0.506087</td>\n",
              "      <td>1.189887</td>\n",
              "      <td>0.194746</td>\n",
              "      <td>-0.397248</td>\n",
              "      <td>0.941684</td>\n",
              "      <td>-0.278891</td>\n",
              "      <td>0.970027</td>\n",
              "      <td>0.808079</td>\n",
              "      <td>0.988888</td>\n",
              "      <td>1.716974</td>\n",
              "      <td>-0.539437</td>\n",
              "      <td>-0.189652</td>\n",
              "      <td>-0.160849</td>\n",
              "      <td>-0.275788</td>\n",
              "      <td>-0.209786</td>\n",
              "      <td>-0.193146</td>\n",
              "      <td>-0.325066</td>\n",
              "      <td>-0.147757</td>\n",
              "      <td>-0.441991</td>\n",
              "      <td>-0.157542</td>\n",
              "      <td>-0.089700</td>\n",
              "      <td>-0.354036</td>\n",
              "      <td>0.81011</td>\n",
              "      <td>-0.628165</td>\n",
              "      <td>-0.043768</td>\n",
              "      <td>-0.33367</td>\n",
              "      <td>-0.243127</td>\n",
              "      <td>-0.416854</td>\n",
              "      <td>-0.549836</td>\n",
              "      <td>-0.020617</td>\n",
              "      <td>-0.380438</td>\n",
              "      <td>1.543908</td>\n",
              "      <td>-0.207886</td>\n",
              "      <td>-0.339259</td>\n",
              "      <td>0.397248</td>\n",
              "      <td>-0.184965</td>\n",
              "    </tr>\n",
              "    <tr>\n",
              "      <th>36682</th>\n",
              "      <td>1.080509</td>\n",
              "      <td>-0.139295</td>\n",
              "      <td>-1.092309</td>\n",
              "      <td>-0.459431</td>\n",
              "      <td>0.756235</td>\n",
              "      <td>0.287964</td>\n",
              "      <td>-1.483013</td>\n",
              "      <td>1.521630</td>\n",
              "      <td>-1.044531</td>\n",
              "      <td>0.194746</td>\n",
              "      <td>-0.397248</td>\n",
              "      <td>-1.532187</td>\n",
              "      <td>-1.055545</td>\n",
              "      <td>-0.005804</td>\n",
              "      <td>-1.373791</td>\n",
              "      <td>-1.343516</td>\n",
              "      <td>-0.582420</td>\n",
              "      <td>-0.539437</td>\n",
              "      <td>-0.189652</td>\n",
              "      <td>-0.160849</td>\n",
              "      <td>-0.275788</td>\n",
              "      <td>-0.209786</td>\n",
              "      <td>-0.193146</td>\n",
              "      <td>-0.325066</td>\n",
              "      <td>-0.147757</td>\n",
              "      <td>2.262487</td>\n",
              "      <td>-0.157542</td>\n",
              "      <td>-0.089700</td>\n",
              "      <td>-0.354036</td>\n",
              "      <td>-1.23440</td>\n",
              "      <td>1.591939</td>\n",
              "      <td>-0.043768</td>\n",
              "      <td>-0.33367</td>\n",
              "      <td>-0.243127</td>\n",
              "      <td>-0.416854</td>\n",
              "      <td>-0.549836</td>\n",
              "      <td>-0.020617</td>\n",
              "      <td>-0.380438</td>\n",
              "      <td>1.543908</td>\n",
              "      <td>-0.207886</td>\n",
              "      <td>-0.339259</td>\n",
              "      <td>0.397248</td>\n",
              "      <td>-0.184965</td>\n",
              "    </tr>\n",
              "    <tr>\n",
              "      <th>7590</th>\n",
              "      <td>0.772819</td>\n",
              "      <td>0.539458</td>\n",
              "      <td>-1.092309</td>\n",
              "      <td>-0.459431</td>\n",
              "      <td>-1.322340</td>\n",
              "      <td>0.992851</td>\n",
              "      <td>-1.483013</td>\n",
              "      <td>-0.247739</td>\n",
              "      <td>-1.044531</td>\n",
              "      <td>0.194746</td>\n",
              "      <td>-0.397248</td>\n",
              "      <td>0.565426</td>\n",
              "      <td>0.705650</td>\n",
              "      <td>0.911314</td>\n",
              "      <td>0.722850</td>\n",
              "      <td>0.144015</td>\n",
              "      <td>-0.582420</td>\n",
              "      <td>-0.539437</td>\n",
              "      <td>-0.189652</td>\n",
              "      <td>-0.160849</td>\n",
              "      <td>-0.275788</td>\n",
              "      <td>-0.209786</td>\n",
              "      <td>-0.193146</td>\n",
              "      <td>-0.325066</td>\n",
              "      <td>-0.147757</td>\n",
              "      <td>-0.441991</td>\n",
              "      <td>-0.157542</td>\n",
              "      <td>11.148326</td>\n",
              "      <td>-0.354036</td>\n",
              "      <td>0.81011</td>\n",
              "      <td>-0.628165</td>\n",
              "      <td>-0.043768</td>\n",
              "      <td>-0.33367</td>\n",
              "      <td>-0.243127</td>\n",
              "      <td>-0.416854</td>\n",
              "      <td>-0.549836</td>\n",
              "      <td>-0.020617</td>\n",
              "      <td>-0.380438</td>\n",
              "      <td>-0.647707</td>\n",
              "      <td>4.810322</td>\n",
              "      <td>-0.339259</td>\n",
              "      <td>0.397248</td>\n",
              "      <td>-0.184965</td>\n",
              "    </tr>\n",
              "    <tr>\n",
              "      <th>35961</th>\n",
              "      <td>1.737546</td>\n",
              "      <td>-0.139295</td>\n",
              "      <td>-1.092309</td>\n",
              "      <td>-0.459431</td>\n",
              "      <td>0.756235</td>\n",
              "      <td>0.992851</td>\n",
              "      <td>-0.762170</td>\n",
              "      <td>0.643232</td>\n",
              "      <td>-1.044531</td>\n",
              "      <td>0.194746</td>\n",
              "      <td>-0.397248</td>\n",
              "      <td>-1.241306</td>\n",
              "      <td>-1.162453</td>\n",
              "      <td>-1.275035</td>\n",
              "      <td>-1.375079</td>\n",
              "      <td>-1.143598</td>\n",
              "      <td>-0.582420</td>\n",
              "      <td>-0.539437</td>\n",
              "      <td>-0.189652</td>\n",
              "      <td>-0.160849</td>\n",
              "      <td>-0.275788</td>\n",
              "      <td>4.766771</td>\n",
              "      <td>-0.193146</td>\n",
              "      <td>-0.325066</td>\n",
              "      <td>-0.147757</td>\n",
              "      <td>-0.441991</td>\n",
              "      <td>-0.157542</td>\n",
              "      <td>-0.089700</td>\n",
              "      <td>-0.354036</td>\n",
              "      <td>0.81011</td>\n",
              "      <td>-0.628165</td>\n",
              "      <td>-0.043768</td>\n",
              "      <td>-0.33367</td>\n",
              "      <td>-0.243127</td>\n",
              "      <td>2.398920</td>\n",
              "      <td>-0.549836</td>\n",
              "      <td>-0.020617</td>\n",
              "      <td>-0.380438</td>\n",
              "      <td>-0.647707</td>\n",
              "      <td>-0.207886</td>\n",
              "      <td>-0.339259</td>\n",
              "      <td>0.397248</td>\n",
              "      <td>-0.184965</td>\n",
              "    </tr>\n",
              "    <tr>\n",
              "      <th>27665</th>\n",
              "      <td>1.360501</td>\n",
              "      <td>-0.139295</td>\n",
              "      <td>-1.092309</td>\n",
              "      <td>-0.459431</td>\n",
              "      <td>0.756235</td>\n",
              "      <td>-1.497430</td>\n",
              "      <td>-1.483013</td>\n",
              "      <td>0.025617</td>\n",
              "      <td>0.247966</td>\n",
              "      <td>0.194746</td>\n",
              "      <td>2.516407</td>\n",
              "      <td>-0.529355</td>\n",
              "      <td>-0.682221</td>\n",
              "      <td>-0.274154</td>\n",
              "      <td>0.062441</td>\n",
              "      <td>0.240117</td>\n",
              "      <td>-0.582420</td>\n",
              "      <td>-0.539437</td>\n",
              "      <td>-0.189652</td>\n",
              "      <td>-0.160849</td>\n",
              "      <td>3.625976</td>\n",
              "      <td>-0.209786</td>\n",
              "      <td>-0.193146</td>\n",
              "      <td>-0.325066</td>\n",
              "      <td>-0.147757</td>\n",
              "      <td>-0.441991</td>\n",
              "      <td>-0.157542</td>\n",
              "      <td>-0.089700</td>\n",
              "      <td>-0.354036</td>\n",
              "      <td>0.81011</td>\n",
              "      <td>-0.628165</td>\n",
              "      <td>-0.043768</td>\n",
              "      <td>-0.33367</td>\n",
              "      <td>-0.243127</td>\n",
              "      <td>2.398920</td>\n",
              "      <td>-0.549836</td>\n",
              "      <td>-0.020617</td>\n",
              "      <td>-0.380438</td>\n",
              "      <td>-0.647707</td>\n",
              "      <td>-0.207886</td>\n",
              "      <td>2.947597</td>\n",
              "      <td>-2.517319</td>\n",
              "      <td>-0.184965</td>\n",
              "    </tr>\n",
              "  </tbody>\n",
              "</table>\n",
              "</div>"
            ],
            "text/plain": [
              "            age   default  ...  poutcome_nonexistent  poutcome_success\n",
              "22581  0.050995 -0.139295  ...              0.397248         -0.184965\n",
              "36682  1.080509 -0.139295  ...              0.397248         -0.184965\n",
              "7590   0.772819  0.539458  ...              0.397248         -0.184965\n",
              "35961  1.737546 -0.139295  ...              0.397248         -0.184965\n",
              "27665  1.360501 -0.139295  ...             -2.517319         -0.184965\n",
              "\n",
              "[5 rows x 43 columns]"
            ]
          },
          "metadata": {
            "tags": []
          },
          "execution_count": 112
        }
      ]
    },
    {
      "cell_type": "markdown",
      "metadata": {
        "id": "CNjfO-dwe054"
      },
      "source": [
        "Standard Scaling on all features:"
      ]
    },
    {
      "cell_type": "code",
      "metadata": {
        "id": "dZQFmtDde7Wq"
      },
      "source": [
        "from sklearn.preprocessing import StandardScaler\n",
        "scaler = StandardScaler()\n",
        "scaler.fit(X_train)\n",
        "X_t = scaler.transform(X_train)\n",
        "X_v = scaler.transform(X_val)\n",
        "X_train = pd.DataFrame(data=X_t, index=X_train.index, columns=X_train.columns)\n",
        "X_val = pd.DataFrame(data=X_v, index=X_val.index, columns=X_val.columns)\n"
      ],
      "execution_count": null,
      "outputs": []
    },
    {
      "cell_type": "code",
      "metadata": {
        "id": "YRBsquo2e7UC"
      },
      "source": [
        ""
      ],
      "execution_count": null,
      "outputs": []
    },
    {
      "cell_type": "markdown",
      "metadata": {
        "id": "8zT-HalcTenO"
      },
      "source": [
        "**MODELS:**"
      ]
    },
    {
      "cell_type": "code",
      "metadata": {
        "id": "G51zaIA9TNfh",
        "cellView": "both"
      },
      "source": [
        ""
      ],
      "execution_count": null,
      "outputs": []
    },
    {
      "cell_type": "markdown",
      "metadata": {
        "id": "RuiWh0tzW-z1"
      },
      "source": [
        "Logistic Regression:"
      ]
    },
    {
      "cell_type": "code",
      "metadata": {
        "id": "-CL88pSs6FEM",
        "outputId": "6d19164f-25f3-4963-a7b2-c5a921464442",
        "colab": {
          "base_uri": "https://localhost:8080/",
          "height": 105
        }
      },
      "source": [
        "from sklearn.linear_model import LogisticRegression\n",
        "from sklearn.metrics import f1_score\n",
        "log = LogisticRegression()\n",
        "log.fit(X_train,y_train)\n",
        "y_train_pred = log.predict(X_train)\n",
        "y_val_pred = log.predict(X_val)\n",
        "print(f1_score(y_train,y_train_pred))\n",
        "print(f1_score(y_val,y_val_pred))"
      ],
      "execution_count": null,
      "outputs": [
        {
          "output_type": "stream",
          "text": [
            "/usr/local/lib/python3.6/dist-packages/sklearn/linear_model/logistic.py:432: FutureWarning: Default solver will be changed to 'lbfgs' in 0.22. Specify a solver to silence this warning.\n",
            "  FutureWarning)\n"
          ],
          "name": "stderr"
        },
        {
          "output_type": "stream",
          "text": [
            "0.5244778067885116\n",
            "0.48364153627311524\n"
          ],
          "name": "stdout"
        }
      ]
    },
    {
      "cell_type": "markdown",
      "metadata": {
        "id": "9ApRN402XF6y"
      },
      "source": [
        "LogisticRegressionCV:"
      ]
    },
    {
      "cell_type": "code",
      "metadata": {
        "id": "WjcnKgyo2IDQ",
        "outputId": "4cb7667c-7dda-4388-9ed7-56f8b58f0d8d",
        "colab": {
          "base_uri": "https://localhost:8080/",
          "height": 102
        }
      },
      "source": [
        "from sklearn.linear_model import LogisticRegressionCV\n",
        "from sklearn.metrics import balanced_accuracy_score\n",
        "LR = LogisticRegressionCV(cv=5,  max_iter=400)\n",
        "LR.fit(X_train, y_train)"
      ],
      "execution_count": null,
      "outputs": [
        {
          "output_type": "execute_result",
          "data": {
            "text/plain": [
              "LogisticRegressionCV(Cs=10, class_weight=None, cv=5, dual=False,\n",
              "                     fit_intercept=True, intercept_scaling=1.0, l1_ratios=None,\n",
              "                     max_iter=400, multi_class='warn', n_jobs=None,\n",
              "                     penalty='l2', random_state=None, refit=True, scoring=None,\n",
              "                     solver='lbfgs', tol=0.0001, verbose=0)"
            ]
          },
          "metadata": {
            "tags": []
          },
          "execution_count": 114
        }
      ]
    },
    {
      "cell_type": "code",
      "metadata": {
        "id": "-TZHeFVt3uwP",
        "outputId": "0a9f3e5a-c151-415e-f161-886fea4a006e",
        "colab": {
          "base_uri": "https://localhost:8080/",
          "height": 51
        }
      },
      "source": [
        "y_train_pred = LR.predict(X_train)\n",
        "y_val_pred = LR.predict(X_val)\n",
        "print(f1_score(y_train,y_train_pred))\n",
        "print(f1_score(y_val,y_val_pred))"
      ],
      "execution_count": null,
      "outputs": [
        {
          "output_type": "stream",
          "text": [
            "0.5257664709719505\n",
            "0.48364153627311524\n"
          ],
          "name": "stdout"
        }
      ]
    },
    {
      "cell_type": "markdown",
      "metadata": {
        "id": "Uo6h6yex_kZ-"
      },
      "source": [
        "XGBoost\n"
      ]
    },
    {
      "cell_type": "code",
      "metadata": {
        "id": "x39g0Eta-jpA",
        "outputId": "de4ac2d7-9c29-4d1f-e9ea-67e5927f451a",
        "colab": {
          "base_uri": "https://localhost:8080/",
          "height": 51
        }
      },
      "source": [
        "from xgboost import XGBClassifier\n",
        "xgb = XGBClassifier(max_depth=2, learning_rate=0.06, n_estimators=2000, subsample=0.5, colsample_bytree=0.35, gamma=1, min_child_weight=12)\n",
        "xgb.fit(X_train,y_train)\n",
        "y_train_pred = xgb.predict(X_train)\n",
        "y_val_pred = xgb.predict(X_val)\n",
        "print(f1_score(y_train,y_train_pred))\n",
        "print(f1_score(y_val,y_val_pred))"
      ],
      "execution_count": null,
      "outputs": [
        {
          "output_type": "stream",
          "text": [
            "0.6327700663850332\n",
            "0.5803108808290156\n"
          ],
          "name": "stdout"
        }
      ]
    },
    {
      "cell_type": "markdown",
      "metadata": {
        "id": "-lLYX7UcArAQ"
      },
      "source": [
        "Randomized Search to find best parameters for XGBoost:"
      ]
    },
    {
      "cell_type": "code",
      "metadata": {
        "id": "bvjc-fvvARx0"
      },
      "source": [
        "from sklearn.model_selection import RandomizedSearchCV\n",
        "params = {\n",
        "        'learning_rate': [0.03, 0.06, 0.08],\n",
        "        'min_child_weight': [1, 5, 10],\n",
        "        'gamma': [0.5, 1, 1.5, 2, 5],\n",
        "        'subsample': [0.3, 0.6],\n",
        "        'colsample_bytree': [0.6, 0.8, 1.0],\n",
        "        'max_depth': [3, 4, 5]\n",
        "        }\n",
        "from sklearn.metrics import make_scorer        "
      ],
      "execution_count": null,
      "outputs": []
    },
    {
      "cell_type": "code",
      "metadata": {
        "id": "-J9k021mA4uP"
      },
      "source": [
        "xgb = XGBClassifier(n_estimators=800,\n",
        "                    silent=True, nthread=1)"
      ],
      "execution_count": null,
      "outputs": []
    },
    {
      "cell_type": "code",
      "metadata": {
        "id": "pVIRzEsPBEaE"
      },
      "source": [
        "random_search = RandomizedSearchCV(xgb, param_distributions=params, n_iter=3, scoring=make_scorer(f1_score), n_jobs=-1, cv=5, verbose=3, random_state=2 )"
      ],
      "execution_count": null,
      "outputs": []
    },
    {
      "cell_type": "code",
      "metadata": {
        "id": "NE2zMMbqBGUK",
        "outputId": "23d78a68-3874-4237-dede-f1dc23e64016",
        "colab": {
          "base_uri": "https://localhost:8080/",
          "height": 476
        }
      },
      "source": [
        "# redo for transformed and scaled data - was taking too much time\n",
        "random_search.fit(X_train.values, y_train.values)"
      ],
      "execution_count": null,
      "outputs": [
        {
          "output_type": "stream",
          "text": [
            "Fitting 5 folds for each of 3 candidates, totalling 15 fits\n"
          ],
          "name": "stdout"
        },
        {
          "output_type": "stream",
          "text": [
            "[Parallel(n_jobs=-1)]: Using backend LokyBackend with 2 concurrent workers.\n",
            "[Parallel(n_jobs=-1)]: Done  15 out of  15 | elapsed:  4.7min finished\n"
          ],
          "name": "stderr"
        },
        {
          "output_type": "execute_result",
          "data": {
            "text/plain": [
              "RandomizedSearchCV(cv=5, error_score='raise-deprecating',\n",
              "                   estimator=XGBClassifier(base_score=0.5, booster='gbtree',\n",
              "                                           colsample_bylevel=1,\n",
              "                                           colsample_bynode=1,\n",
              "                                           colsample_bytree=1, gamma=0,\n",
              "                                           learning_rate=0.1, max_delta_step=0,\n",
              "                                           max_depth=3, min_child_weight=1,\n",
              "                                           missing=None, n_estimators=800,\n",
              "                                           n_jobs=1, nthread=1,\n",
              "                                           objective='binary:logistic',\n",
              "                                           random_state=0, reg_alpha=0,\n",
              "                                           re...\n",
              "                                           seed=None, silent=True, subsample=1,\n",
              "                                           verbosity=1),\n",
              "                   iid='warn', n_iter=3, n_jobs=-1,\n",
              "                   param_distributions={'colsample_bytree': [0.6, 0.8, 1.0],\n",
              "                                        'gamma': [0.5, 1, 1.5, 2, 5],\n",
              "                                        'learning_rate': [0.03, 0.06, 0.08],\n",
              "                                        'max_depth': [3, 4, 5],\n",
              "                                        'min_child_weight': [1, 5, 10],\n",
              "                                        'subsample': [0.3, 0.6]},\n",
              "                   pre_dispatch='2*n_jobs', random_state=2, refit=True,\n",
              "                   return_train_score=False, scoring=make_scorer(f1_score),\n",
              "                   verbose=3)"
            ]
          },
          "metadata": {
            "tags": []
          },
          "execution_count": 144
        }
      ]
    },
    {
      "cell_type": "code",
      "metadata": {
        "id": "h4mUp9eQC7_A",
        "outputId": "61ae5477-e192-4969-b555-9566ebae5f73",
        "colab": {
          "base_uri": "https://localhost:8080/",
          "height": 54
        }
      },
      "source": [
        "print(random_search.best_params_)"
      ],
      "execution_count": null,
      "outputs": [
        {
          "output_type": "stream",
          "text": [
            "{'subsample': 0.6, 'min_child_weight': 1, 'max_depth': 4, 'learning_rate': 0.03, 'gamma': 5, 'colsample_bytree': 0.8}\n"
          ],
          "name": "stdout"
        }
      ]
    },
    {
      "cell_type": "markdown",
      "metadata": {
        "id": "ExgrNGCIXtwO"
      },
      "source": [
        "XGBoost with best parameters:"
      ]
    },
    {
      "cell_type": "code",
      "metadata": {
        "id": "n8i4fxIEC775",
        "outputId": "71912190-0e9b-410c-dace-22f84d45c002",
        "colab": {
          "base_uri": "https://localhost:8080/",
          "height": 51
        }
      },
      "source": [
        "#xgboost with best params\n",
        "from xgboost import XGBClassifier\n",
        "xgb = XGBClassifier(max_depth=4, learning_rate=0.03, n_estimators=2000, subsample=0.6, colsample_bytree=0.8, gamma=5, min_child_weight=1)\n",
        "xgb.fit(X_train,y_train)\n",
        "y_train_pred = xgb.predict(X_train)\n",
        "y_val_pred = xgb.predict(X_val)\n",
        "print(f1_score(y_train,y_train_pred))\n",
        "print(f1_score(y_val,y_val_pred))"
      ],
      "execution_count": null,
      "outputs": [
        {
          "output_type": "stream",
          "text": [
            "0.6851038923031899\n",
            "0.5984848484848485\n"
          ],
          "name": "stdout"
        }
      ]
    },
    {
      "cell_type": "code",
      "metadata": {
        "id": "lWVGr5BvuLOf"
      },
      "source": [
        ""
      ],
      "execution_count": null,
      "outputs": []
    },
    {
      "cell_type": "markdown",
      "metadata": {
        "id": "CQZLBtjg2Pft"
      },
      "source": [
        "SVC"
      ]
    },
    {
      "cell_type": "code",
      "metadata": {
        "id": "Kka0VR2JFHc3",
        "outputId": "2774319c-8d2f-4276-f1a8-7bef9b3e9f76",
        "colab": {
          "base_uri": "https://localhost:8080/",
          "height": 85
        }
      },
      "source": [
        "from sklearn.svm import SVC\n",
        "svc = SVC(C=0.3, class_weight='balanced', degree=6, probability=True)\n",
        "svc.fit(X_train, y_train)"
      ],
      "execution_count": null,
      "outputs": [
        {
          "output_type": "execute_result",
          "data": {
            "text/plain": [
              "SVC(C=0.3, cache_size=200, class_weight='balanced', coef0=0.0,\n",
              "    decision_function_shape='ovr', degree=6, gamma='auto_deprecated',\n",
              "    kernel='rbf', max_iter=-1, probability=True, random_state=None,\n",
              "    shrinking=True, tol=0.001, verbose=False)"
            ]
          },
          "metadata": {
            "tags": []
          },
          "execution_count": 122
        }
      ]
    },
    {
      "cell_type": "code",
      "metadata": {
        "id": "qikc9QCE7Hgv",
        "outputId": "7b5eeefa-1ecc-4899-ba2e-ff5deb152e99",
        "colab": {
          "base_uri": "https://localhost:8080/",
          "height": 51
        }
      },
      "source": [
        "y_train_pred = svc.predict(X_train)\n",
        "y_val_pred = svc.predict(X_val)\n",
        "print(f1_score(y_train,y_train_pred))\n",
        "print(f1_score(y_val,y_val_pred))"
      ],
      "execution_count": null,
      "outputs": [
        {
          "output_type": "stream",
          "text": [
            "0.5752701476532212\n",
            "0.5525946704067322\n"
          ],
          "name": "stdout"
        }
      ]
    },
    {
      "cell_type": "markdown",
      "metadata": {
        "id": "cLeYDSd1X69V"
      },
      "source": [
        "Randomized Search for SVC params:"
      ]
    },
    {
      "cell_type": "code",
      "metadata": {
        "id": "a00Rv5ffX6iC"
      },
      "source": [
        "params = {\n",
        "    'C': [0.001, 0.01, 0.1, 1, 10],\n",
        "    'gamma' : [0.001, 0.01, 0.1, 1],\n",
        "    'kernel': ['rbf']\n",
        "        }"
      ],
      "execution_count": null,
      "outputs": []
    },
    {
      "cell_type": "code",
      "metadata": {
        "id": "1Rq26z9BX6gB"
      },
      "source": [
        "random_svc = RandomizedSearchCV(xgb, param_distributions=params, n_iter=3, scoring=make_scorer(f1_score), n_jobs=-1, cv=5, verbose=2, random_state=2 )"
      ],
      "execution_count": null,
      "outputs": []
    },
    {
      "cell_type": "code",
      "metadata": {
        "id": "GcD1K3HxX6dU",
        "outputId": "b11b13a5-f8ca-4e22-a008-35a5ea6ae183",
        "colab": {
          "base_uri": "https://localhost:8080/",
          "height": 425
        }
      },
      "source": [
        "# redo - was taking too much time\n",
        "random_svc.fit(X_train.values, y_train.values)"
      ],
      "execution_count": null,
      "outputs": [
        {
          "output_type": "stream",
          "text": [
            "Fitting 5 folds for each of 3 candidates, totalling 15 fits\n"
          ],
          "name": "stdout"
        },
        {
          "output_type": "stream",
          "text": [
            "[Parallel(n_jobs=-1)]: Using backend LokyBackend with 2 concurrent workers.\n",
            "[Parallel(n_jobs=-1)]: Done  15 out of  15 | elapsed: 16.7min finished\n"
          ],
          "name": "stderr"
        },
        {
          "output_type": "execute_result",
          "data": {
            "text/plain": [
              "RandomizedSearchCV(cv=5, error_score='raise-deprecating',\n",
              "                   estimator=XGBClassifier(base_score=0.5, booster='gbtree',\n",
              "                                           colsample_bylevel=1,\n",
              "                                           colsample_bynode=1,\n",
              "                                           colsample_bytree=0.8, gamma=1.5,\n",
              "                                           learning_rate=0.03, max_delta_step=0,\n",
              "                                           max_depth=5, min_child_weight=10,\n",
              "                                           missing=None, n_estimators=2000,\n",
              "                                           n_jobs=1, nthread=None,\n",
              "                                           objective='binary:logistic',\n",
              "                                           random_state=0, reg_alpha=0,\n",
              "                                           reg_lambda=1, scale_pos_weight=1,\n",
              "                                           seed=None, silent=None,\n",
              "                                           subsample=0.6, verbosity=1),\n",
              "                   iid='warn', n_iter=3, n_jobs=-1,\n",
              "                   param_distributions={'C': [0.001, 0.01, 0.1, 1, 10],\n",
              "                                        'gamma': [0.001, 0.01, 0.1, 1],\n",
              "                                        'kernel': ['rbf']},\n",
              "                   pre_dispatch='2*n_jobs', random_state=2, refit=True,\n",
              "                   return_train_score=False, scoring=make_scorer(f1_score),\n",
              "                   verbose=2)"
            ]
          },
          "metadata": {
            "tags": []
          },
          "execution_count": 137
        }
      ]
    },
    {
      "cell_type": "code",
      "metadata": {
        "id": "-69xuk68adiH",
        "outputId": "a93fce44-aa34-4d49-d203-235e10ccde96",
        "colab": {
          "base_uri": "https://localhost:8080/",
          "height": 34
        }
      },
      "source": [
        "random_svc.best_params_"
      ],
      "execution_count": null,
      "outputs": [
        {
          "output_type": "execute_result",
          "data": {
            "text/plain": [
              "{'C': 1, 'gamma': 0.001, 'kernel': 'rbf'}"
            ]
          },
          "metadata": {
            "tags": []
          },
          "execution_count": 138
        }
      ]
    },
    {
      "cell_type": "code",
      "metadata": {
        "id": "U2ylXTfVadeh",
        "outputId": "63ec7c79-3947-4bb2-ed3b-39f8b8f86ea2",
        "colab": {
          "base_uri": "https://localhost:8080/",
          "height": 51
        }
      },
      "source": [
        "svc = SVC(C=1,gamma=0.001, kernel='rbf' ,class_weight='balanced', degree=6, probability=True)\n",
        "svc.fit(X_train, y_train)\n",
        "y_train_pred = svc.predict(X_train)\n",
        "y_val_pred = svc.predict(X_val)\n",
        "print(f1_score(y_train,y_train_pred))\n",
        "print(f1_score(y_val,y_val_pred))"
      ],
      "execution_count": null,
      "outputs": [
        {
          "output_type": "stream",
          "text": [
            "0.5548654244306418\n",
            "0.5524079320113314\n"
          ],
          "name": "stdout"
        }
      ]
    },
    {
      "cell_type": "markdown",
      "metadata": {
        "id": "L91JHhrA7kDx"
      },
      "source": [
        "Random Forest"
      ]
    },
    {
      "cell_type": "code",
      "metadata": {
        "id": "pCeUb_vI7jlA",
        "outputId": "39345f2b-f2aa-4986-a289-cac22f286a3e",
        "colab": {
          "base_uri": "https://localhost:8080/",
          "height": 136
        }
      },
      "source": [
        "from sklearn.ensemble import RandomForestClassifier\n",
        "rfc = RandomForestClassifier(n_estimators=500, random_state=42, max_depth=5)\n",
        "rfc.fit(X_train, y_train)"
      ],
      "execution_count": null,
      "outputs": [
        {
          "output_type": "execute_result",
          "data": {
            "text/plain": [
              "RandomForestClassifier(bootstrap=True, class_weight=None, criterion='gini',\n",
              "                       max_depth=5, max_features='auto', max_leaf_nodes=None,\n",
              "                       min_impurity_decrease=0.0, min_impurity_split=None,\n",
              "                       min_samples_leaf=1, min_samples_split=2,\n",
              "                       min_weight_fraction_leaf=0.0, n_estimators=500,\n",
              "                       n_jobs=None, oob_score=False, random_state=42, verbose=0,\n",
              "                       warm_start=False)"
            ]
          },
          "metadata": {
            "tags": []
          },
          "execution_count": 127
        }
      ]
    },
    {
      "cell_type": "code",
      "metadata": {
        "id": "eGoKu4Se6Omj",
        "outputId": "936a7ef4-4f48-4898-947a-7b713164e26e",
        "colab": {
          "base_uri": "https://localhost:8080/",
          "height": 51
        }
      },
      "source": [
        "y_train_pred = rfc.predict(X_train)\n",
        "y_val_pred = rfc.predict(X_val)\n",
        "print(f1_score(y_train,y_train_pred))\n",
        "print(f1_score(y_val,y_val_pred))"
      ],
      "execution_count": null,
      "outputs": [
        {
          "output_type": "stream",
          "text": [
            "0.32241490044958254\n",
            "0.2867924528301886\n"
          ],
          "name": "stdout"
        }
      ]
    },
    {
      "cell_type": "markdown",
      "metadata": {
        "id": "PGmNsM7tUmH3"
      },
      "source": [
        "Randomized search on fandom forest classifer:"
      ]
    },
    {
      "cell_type": "code",
      "metadata": {
        "id": "Ky-XlNz2SqHU"
      },
      "source": [
        "param_grid = { \n",
        "    'n_estimators': [200, 500],\n",
        "    'max_features': ['auto', 'sqrt', 'log2' ],\n",
        "    'max_depth' : [2,4,5,6,7,8],\n",
        "    'criterion' :['gini', 'entropy']\n",
        "}"
      ],
      "execution_count": null,
      "outputs": []
    },
    {
      "cell_type": "code",
      "metadata": {
        "id": "YAmSmbWHVKdU"
      },
      "source": [
        "random_rfc = RandomizedSearchCV(rfc, param_distributions=param_grid, n_iter=3, scoring=make_scorer(f1_score), n_jobs=-1, cv=5, verbose=3, random_state=2 )"
      ],
      "execution_count": null,
      "outputs": []
    },
    {
      "cell_type": "code",
      "metadata": {
        "id": "00krsTEzVXTN",
        "outputId": "6eeeed90-2ef7-417a-d3e6-a1bf2cbeb25f",
        "colab": {
          "base_uri": "https://localhost:8080/",
          "height": 510
        }
      },
      "source": [
        "random_rfc.fit(X_train, y_train)"
      ],
      "execution_count": null,
      "outputs": [
        {
          "output_type": "stream",
          "text": [
            "Fitting 5 folds for each of 3 candidates, totalling 15 fits\n"
          ],
          "name": "stdout"
        },
        {
          "output_type": "stream",
          "text": [
            "[Parallel(n_jobs=-1)]: Using backend LokyBackend with 2 concurrent workers.\n",
            "[Parallel(n_jobs=-1)]: Done  15 out of  15 | elapsed:  1.0min finished\n"
          ],
          "name": "stderr"
        },
        {
          "output_type": "execute_result",
          "data": {
            "text/plain": [
              "RandomizedSearchCV(cv=5, error_score='raise-deprecating',\n",
              "                   estimator=RandomForestClassifier(bootstrap=True,\n",
              "                                                    class_weight=None,\n",
              "                                                    criterion='gini',\n",
              "                                                    max_depth=5,\n",
              "                                                    max_features='auto',\n",
              "                                                    max_leaf_nodes=None,\n",
              "                                                    min_impurity_decrease=0.0,\n",
              "                                                    min_impurity_split=None,\n",
              "                                                    min_samples_leaf=1,\n",
              "                                                    min_samples_split=2,\n",
              "                                                    min_weight_fraction_leaf=0.0,\n",
              "                                                    n_estimators=500,\n",
              "                                                    n_jobs=None,\n",
              "                                                    oob_score=False,\n",
              "                                                    random_state=42, verbose=0,\n",
              "                                                    warm_start=False),\n",
              "                   iid='warn', n_iter=3, n_jobs=-1,\n",
              "                   param_distributions={'criterion': ['gini', 'entropy'],\n",
              "                                        'max_depth': [2, 4, 5, 6, 7, 8],\n",
              "                                        'max_features': ['auto', 'sqrt',\n",
              "                                                         'log2'],\n",
              "                                        'n_estimators': [200, 500]},\n",
              "                   pre_dispatch='2*n_jobs', random_state=2, refit=True,\n",
              "                   return_train_score=False, scoring=make_scorer(f1_score),\n",
              "                   verbose=3)"
            ]
          },
          "metadata": {
            "tags": []
          },
          "execution_count": 134
        }
      ]
    },
    {
      "cell_type": "code",
      "metadata": {
        "id": "Lek_QYEcVep-",
        "outputId": "11fab61a-328b-41ad-95b8-770f93ed3074",
        "colab": {
          "base_uri": "https://localhost:8080/",
          "height": 85
        }
      },
      "source": [
        "random_rfc.best_params_"
      ],
      "execution_count": null,
      "outputs": [
        {
          "output_type": "execute_result",
          "data": {
            "text/plain": [
              "{'criterion': 'entropy',\n",
              " 'max_depth': 8,\n",
              " 'max_features': 'auto',\n",
              " 'n_estimators': 500}"
            ]
          },
          "metadata": {
            "tags": []
          },
          "execution_count": 135
        }
      ]
    },
    {
      "cell_type": "markdown",
      "metadata": {
        "id": "QbnxzF8cWBAZ"
      },
      "source": [
        "Random forest with best params:"
      ]
    },
    {
      "cell_type": "code",
      "metadata": {
        "id": "QycCMEE6V6mH",
        "outputId": "9641c054-9b41-413a-c94b-810f9fb437ce",
        "colab": {
          "base_uri": "https://localhost:8080/",
          "height": 51
        }
      },
      "source": [
        "rfc = RandomForestClassifier(n_estimators=500, random_state=42, max_depth=8, max_features='auto',criterion='entropy')\n",
        "rfc.fit(X_train, y_train)\n",
        "y_train_pred = rfc.predict(X_train)\n",
        "y_val_pred = rfc.predict(X_val)\n",
        "print(f1_score(y_train,y_train_pred))\n",
        "print(f1_score(y_val,y_val_pred))"
      ],
      "execution_count": null,
      "outputs": [
        {
          "output_type": "stream",
          "text": [
            "0.4511837213852475\n",
            "0.33743409490333914\n"
          ],
          "name": "stdout"
        }
      ]
    },
    {
      "cell_type": "markdown",
      "metadata": {
        "id": "iBASpF3aWd_t"
      },
      "source": [
        "Best Result observed with XGBoost"
      ]
    }
  ]
}